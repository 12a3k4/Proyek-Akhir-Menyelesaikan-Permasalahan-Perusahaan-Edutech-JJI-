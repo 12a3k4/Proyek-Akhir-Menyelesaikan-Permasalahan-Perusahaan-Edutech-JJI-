{
  "cells": [
    {
      "cell_type": "markdown",
      "metadata": {
        "id": "tnCU1EpwC0u8"
      },
      "source": [
        "# Proyek Akhir: Menyelesaikan Permasalahan Perusahaan Edutech"
      ]
    },
    {
      "cell_type": "markdown",
      "metadata": {
        "id": "v_SxcbUCC0vG"
      },
      "source": [
        "- Nama: Ali Akbar Said\n",
        "- Email: aliakbarsaid@gmail.com\n",
        "- Id Dicoding: aasaid_18"
      ]
    },
    {
      "cell_type": "markdown",
      "metadata": {
        "id": "_mPD_TSoC0vI"
      },
      "source": [
        "## Persiapan"
      ]
    },
    {
      "cell_type": "markdown",
      "metadata": {
        "id": "7FulEU_pC0vJ"
      },
      "source": [
        "### Menyiapkan library yang dibutuhkan"
      ]
    },
    {
      "cell_type": "markdown",
      "metadata": {
        "id": "euRH6xhvC0vJ"
      },
      "source": [
        "Pada tahap ini, berbagai library diimpor untuk mendukung proses analisis data, mulai dari pra-pemrosesan hingga pembuatan dan evaluasi model. Penjelasan setiap library yang digunakan adalah sebagai berikut:\n",
        "1. pandas: Berfungsi untuk mengelola dan menganalisis data dalam bentuk tabel (DataFrame).\n",
        "2. seaborn: Merupakan library visualisasi berbasis matplotlib yang digunakan untuk membuat grafik statistik yang informatif.\n",
        "3. matplotlib.pyplot: Digunakan untuk menghasilkan berbagai jenis visualisasi data seperti grafik dan plot.\n",
        "4. sklearn.model_selection:\n",
        "  - train_test_split: Memisahkan dataset menjadi data pelatihan dan pengujian.\n",
        "  - GridSearchCV: Menyediakan cara untuk menemukan kombinasi hyperparameter terbaik melalui cross-validation.\n",
        "5. sklearn.preprocessing:\n",
        "  - LabelEncoder: Mengonversi data kategorikal menjadi bentuk numerik.\n",
        "  - StandardScaler: Menstandarkan fitur agar memiliki distribusi dengan rata-rata 0 dan deviasi standar 1.\n",
        "6. sklearn.metrics:\n",
        "  - classification_report: Menyajikan hasil evaluasi model seperti precision, recall, dan F1-score.\n",
        "  - confusion_matrix: Menyediakan matriks untuk melihat prediksi benar dan salah dari model.\n",
        "  - accuracy_score: Mengukur tingkat akurasi model prediksi.\n",
        "7. xgboost: Sebuah library yang dirancang untuk membangun model gradient boosting yang cepat dan efisien.\n",
        "8. joblib: Digunakan untuk menyimpan dan memuat objek seperti model, scaler, atau encoder yang telah dilatih.\n",
        "\n",
        "Seluruh library ini berperan penting dalam siklus analisis data, mulai dari pemrosesan awal hingga evaluasi hasil model."
      ]
    },
    {
      "cell_type": "code",
      "execution_count": 51,
      "metadata": {
        "id": "ZcARZ27ZC0vL"
      },
      "outputs": [],
      "source": [
        "import pandas as pd\n",
        "import seaborn as sns\n",
        "import matplotlib.pyplot as plt\n",
        "from sklearn.model_selection import train_test_split, GridSearchCV\n",
        "from sklearn.preprocessing import LabelEncoder, StandardScaler\n",
        "from sklearn.metrics import classification_report, confusion_matrix, accuracy_score\n",
        "import xgboost as xgb\n",
        "import joblib"
      ]
    },
    {
      "cell_type": "markdown",
      "metadata": {
        "id": "tNZmXHsBC0vP"
      },
      "source": [
        "### Menyiapkan data yang akan digunakan"
      ]
    },
    {
      "cell_type": "markdown",
      "metadata": {
        "id": "qh_YOuKkC0vQ"
      },
      "source": [
        "Pada langkah ini, data yang telah dimuat ditampilkan menggunakan fungsi data.head() guna menampilkan beberapa baris awal sebagai contoh. Tujuannya adalah untuk mendapatkan gambaran umum mengenai struktur dataset, seperti nama-nama kolom serta nilai-nilai awal dari masing-masing kolom."
      ]
    },
    {
      "cell_type": "code",
      "execution_count": 52,
      "metadata": {
        "id": "j8VR-h0WC0vR"
      },
      "outputs": [],
      "source": [
        "data = pd.read_csv('https://raw.githubusercontent.com/dicodingacademy/dicoding_dataset/main/students_performance/data.csv', sep=';')"
      ]
    },
    {
      "cell_type": "code",
      "execution_count": 53,
      "metadata": {
        "colab": {
          "base_uri": "https://localhost:8080/"
        },
        "id": "0ekA8TS6C0vS",
        "outputId": "99715bb9-ab9b-4acb-e83b-7e956793e3ee"
      },
      "outputs": [
        {
          "output_type": "stream",
          "name": "stdout",
          "text": [
            "Data Sample:\n",
            "   Marital_status  Application_mode  Application_order  Course  \\\n",
            "0               1                17                  5     171   \n",
            "1               1                15                  1    9254   \n",
            "2               1                 1                  5    9070   \n",
            "3               1                17                  2    9773   \n",
            "4               2                39                  1    8014   \n",
            "\n",
            "   Daytime_evening_attendance  Previous_qualification  \\\n",
            "0                           1                       1   \n",
            "1                           1                       1   \n",
            "2                           1                       1   \n",
            "3                           1                       1   \n",
            "4                           0                       1   \n",
            "\n",
            "   Previous_qualification_grade  Nacionality  Mothers_qualification  \\\n",
            "0                         122.0            1                     19   \n",
            "1                         160.0            1                      1   \n",
            "2                         122.0            1                     37   \n",
            "3                         122.0            1                     38   \n",
            "4                         100.0            1                     37   \n",
            "\n",
            "   Fathers_qualification  ...  Curricular_units_2nd_sem_credited  \\\n",
            "0                     12  ...                                  0   \n",
            "1                      3  ...                                  0   \n",
            "2                     37  ...                                  0   \n",
            "3                     37  ...                                  0   \n",
            "4                     38  ...                                  0   \n",
            "\n",
            "   Curricular_units_2nd_sem_enrolled  Curricular_units_2nd_sem_evaluations  \\\n",
            "0                                  0                                     0   \n",
            "1                                  6                                     6   \n",
            "2                                  6                                     0   \n",
            "3                                  6                                    10   \n",
            "4                                  6                                     6   \n",
            "\n",
            "   Curricular_units_2nd_sem_approved  Curricular_units_2nd_sem_grade  \\\n",
            "0                                  0                        0.000000   \n",
            "1                                  6                       13.666667   \n",
            "2                                  0                        0.000000   \n",
            "3                                  5                       12.400000   \n",
            "4                                  6                       13.000000   \n",
            "\n",
            "   Curricular_units_2nd_sem_without_evaluations  Unemployment_rate  \\\n",
            "0                                             0               10.8   \n",
            "1                                             0               13.9   \n",
            "2                                             0               10.8   \n",
            "3                                             0                9.4   \n",
            "4                                             0               13.9   \n",
            "\n",
            "   Inflation_rate   GDP    Status  \n",
            "0             1.4  1.74   Dropout  \n",
            "1            -0.3  0.79  Graduate  \n",
            "2             1.4  1.74   Dropout  \n",
            "3            -0.8 -3.12  Graduate  \n",
            "4            -0.3  0.79  Graduate  \n",
            "\n",
            "[5 rows x 37 columns]\n"
          ]
        }
      ],
      "source": [
        "# Menampilkan 5 data teratas\n",
        "print(\"Data Sample:\")\n",
        "print(data.head())"
      ]
    },
    {
      "cell_type": "markdown",
      "metadata": {
        "id": "HjLjzN_pC0vV"
      },
      "source": [
        "## Data Understanding"
      ]
    },
    {
      "cell_type": "markdown",
      "metadata": {
        "id": "XlS6lRLLC0vV"
      },
      "source": [
        "Pada tahap ini, dilakukan eksplorasi awal terhadap dataset guna memperoleh pemahaman mengenai struktur data, distribusi nilai, serta potensi permasalahan seperti nilai yang hilang. Adapun langkah-langkah yang dilakukan meliputi:\n",
        "1. Informasi Data: Dengan menggunakan data.info(), diperoleh informasi mengenai jumlah kolom, tipe data, dan jumlah nilai non-null di setiap kolom. Langkah ini membantu dalam mengidentifikasi adanya missing values atau tipe data yang perlu dikonversi.\n",
        "2. Statistik Deskriptif: Fungsi data.describe() digunakan untuk menampilkan statistik ringkasan seperti rata-rata, median, standar deviasi, serta nilai minimum dan maksimum dari kolom numerik. Statistik ini memberikan gambaran awal tentang pola distribusi data.\n",
        "3. Pemeriksaan Missing Values: Fungsi data.isnull().sum() digunakan untuk menghitung jumlah nilai yang hilang di tiap kolom. Informasi ini penting sebagai dasar dalam menentukan strategi penanganan missing values.\n",
        "4. Distribusi Variabel Target: Distribusi dari kolom target (dalam hal ini Status) dianalisis menggunakan value_counts() untuk melihat proporsi masing-masing kategori. Ini penting untuk mengetahui apakah data bersifat seimbang atau tidak.\n",
        "5. Visualisasi Distribusi Target: sns.countplot() digunakan untuk menampilkan grafik distribusi dari variabel target. Visualisasi ini mempermudah pemahaman terhadap proporsi antar kelas secara lebih intuitif.\n",
        "\n",
        "Seluruh langkah di atas bertujuan untuk memastikan data siap diproses lebih lanjut pada tahap preprocessing dan pembuatan model, serta mengidentifikasi potensi isu yang perlu ditangani sebelumnya."
      ]
    },
    {
      "cell_type": "code",
      "execution_count": 54,
      "metadata": {
        "colab": {
          "base_uri": "https://localhost:8080/"
        },
        "id": "MxTLw1YsC0vW",
        "outputId": "26ce7b8d-2f42-4c9d-db30-b631bc7798ac"
      },
      "outputs": [
        {
          "output_type": "stream",
          "name": "stdout",
          "text": [
            "\n",
            "Informasi Data:\n",
            "<class 'pandas.core.frame.DataFrame'>\n",
            "RangeIndex: 4424 entries, 0 to 4423\n",
            "Data columns (total 37 columns):\n",
            " #   Column                                        Non-Null Count  Dtype  \n",
            "---  ------                                        --------------  -----  \n",
            " 0   Marital_status                                4424 non-null   int64  \n",
            " 1   Application_mode                              4424 non-null   int64  \n",
            " 2   Application_order                             4424 non-null   int64  \n",
            " 3   Course                                        4424 non-null   int64  \n",
            " 4   Daytime_evening_attendance                    4424 non-null   int64  \n",
            " 5   Previous_qualification                        4424 non-null   int64  \n",
            " 6   Previous_qualification_grade                  4424 non-null   float64\n",
            " 7   Nacionality                                   4424 non-null   int64  \n",
            " 8   Mothers_qualification                         4424 non-null   int64  \n",
            " 9   Fathers_qualification                         4424 non-null   int64  \n",
            " 10  Mothers_occupation                            4424 non-null   int64  \n",
            " 11  Fathers_occupation                            4424 non-null   int64  \n",
            " 12  Admission_grade                               4424 non-null   float64\n",
            " 13  Displaced                                     4424 non-null   int64  \n",
            " 14  Educational_special_needs                     4424 non-null   int64  \n",
            " 15  Debtor                                        4424 non-null   int64  \n",
            " 16  Tuition_fees_up_to_date                       4424 non-null   int64  \n",
            " 17  Gender                                        4424 non-null   int64  \n",
            " 18  Scholarship_holder                            4424 non-null   int64  \n",
            " 19  Age_at_enrollment                             4424 non-null   int64  \n",
            " 20  International                                 4424 non-null   int64  \n",
            " 21  Curricular_units_1st_sem_credited             4424 non-null   int64  \n",
            " 22  Curricular_units_1st_sem_enrolled             4424 non-null   int64  \n",
            " 23  Curricular_units_1st_sem_evaluations          4424 non-null   int64  \n",
            " 24  Curricular_units_1st_sem_approved             4424 non-null   int64  \n",
            " 25  Curricular_units_1st_sem_grade                4424 non-null   float64\n",
            " 26  Curricular_units_1st_sem_without_evaluations  4424 non-null   int64  \n",
            " 27  Curricular_units_2nd_sem_credited             4424 non-null   int64  \n",
            " 28  Curricular_units_2nd_sem_enrolled             4424 non-null   int64  \n",
            " 29  Curricular_units_2nd_sem_evaluations          4424 non-null   int64  \n",
            " 30  Curricular_units_2nd_sem_approved             4424 non-null   int64  \n",
            " 31  Curricular_units_2nd_sem_grade                4424 non-null   float64\n",
            " 32  Curricular_units_2nd_sem_without_evaluations  4424 non-null   int64  \n",
            " 33  Unemployment_rate                             4424 non-null   float64\n",
            " 34  Inflation_rate                                4424 non-null   float64\n",
            " 35  GDP                                           4424 non-null   float64\n",
            " 36  Status                                        4424 non-null   object \n",
            "dtypes: float64(7), int64(29), object(1)\n",
            "memory usage: 1.2+ MB\n",
            "None\n"
          ]
        }
      ],
      "source": [
        "print(\"\\nInformasi Data:\")\n",
        "print(data.info())"
      ]
    },
    {
      "cell_type": "code",
      "execution_count": 55,
      "metadata": {
        "colab": {
          "base_uri": "https://localhost:8080/"
        },
        "id": "3LikEkiIC0vX",
        "outputId": "96c457cf-8dbd-43c0-8991-aa7df3ee665d"
      },
      "outputs": [
        {
          "output_type": "stream",
          "name": "stdout",
          "text": [
            "\n",
            "Statistik Data:\n",
            "       Marital_status  Application_mode  Application_order       Course  \\\n",
            "count     4424.000000       4424.000000        4424.000000  4424.000000   \n",
            "mean         1.178571         18.669078           1.727848  8856.642631   \n",
            "std          0.605747         17.484682           1.313793  2063.566416   \n",
            "min          1.000000          1.000000           0.000000    33.000000   \n",
            "25%          1.000000          1.000000           1.000000  9085.000000   \n",
            "50%          1.000000         17.000000           1.000000  9238.000000   \n",
            "75%          1.000000         39.000000           2.000000  9556.000000   \n",
            "max          6.000000         57.000000           9.000000  9991.000000   \n",
            "\n",
            "       Daytime_evening_attendance  Previous_qualification  \\\n",
            "count                 4424.000000             4424.000000   \n",
            "mean                     0.890823                4.577758   \n",
            "std                      0.311897               10.216592   \n",
            "min                      0.000000                1.000000   \n",
            "25%                      1.000000                1.000000   \n",
            "50%                      1.000000                1.000000   \n",
            "75%                      1.000000                1.000000   \n",
            "max                      1.000000               43.000000   \n",
            "\n",
            "       Previous_qualification_grade  Nacionality  Mothers_qualification  \\\n",
            "count                   4424.000000  4424.000000            4424.000000   \n",
            "mean                     132.613314     1.873192              19.561935   \n",
            "std                       13.188332     6.914514              15.603186   \n",
            "min                       95.000000     1.000000               1.000000   \n",
            "25%                      125.000000     1.000000               2.000000   \n",
            "50%                      133.100000     1.000000              19.000000   \n",
            "75%                      140.000000     1.000000              37.000000   \n",
            "max                      190.000000   109.000000              44.000000   \n",
            "\n",
            "       Fathers_qualification  ...  \\\n",
            "count            4424.000000  ...   \n",
            "mean               22.275316  ...   \n",
            "std                15.343108  ...   \n",
            "min                 1.000000  ...   \n",
            "25%                 3.000000  ...   \n",
            "50%                19.000000  ...   \n",
            "75%                37.000000  ...   \n",
            "max                44.000000  ...   \n",
            "\n",
            "       Curricular_units_1st_sem_without_evaluations  \\\n",
            "count                                   4424.000000   \n",
            "mean                                       0.137658   \n",
            "std                                        0.690880   \n",
            "min                                        0.000000   \n",
            "25%                                        0.000000   \n",
            "50%                                        0.000000   \n",
            "75%                                        0.000000   \n",
            "max                                       12.000000   \n",
            "\n",
            "       Curricular_units_2nd_sem_credited  Curricular_units_2nd_sem_enrolled  \\\n",
            "count                        4424.000000                        4424.000000   \n",
            "mean                            0.541817                           6.232143   \n",
            "std                             1.918546                           2.195951   \n",
            "min                             0.000000                           0.000000   \n",
            "25%                             0.000000                           5.000000   \n",
            "50%                             0.000000                           6.000000   \n",
            "75%                             0.000000                           7.000000   \n",
            "max                            19.000000                          23.000000   \n",
            "\n",
            "       Curricular_units_2nd_sem_evaluations  \\\n",
            "count                           4424.000000   \n",
            "mean                               8.063291   \n",
            "std                                3.947951   \n",
            "min                                0.000000   \n",
            "25%                                6.000000   \n",
            "50%                                8.000000   \n",
            "75%                               10.000000   \n",
            "max                               33.000000   \n",
            "\n",
            "       Curricular_units_2nd_sem_approved  Curricular_units_2nd_sem_grade  \\\n",
            "count                        4424.000000                     4424.000000   \n",
            "mean                            4.435805                       10.230206   \n",
            "std                             3.014764                        5.210808   \n",
            "min                             0.000000                        0.000000   \n",
            "25%                             2.000000                       10.750000   \n",
            "50%                             5.000000                       12.200000   \n",
            "75%                             6.000000                       13.333333   \n",
            "max                            20.000000                       18.571429   \n",
            "\n",
            "       Curricular_units_2nd_sem_without_evaluations  Unemployment_rate  \\\n",
            "count                                   4424.000000        4424.000000   \n",
            "mean                                       0.150316          11.566139   \n",
            "std                                        0.753774           2.663850   \n",
            "min                                        0.000000           7.600000   \n",
            "25%                                        0.000000           9.400000   \n",
            "50%                                        0.000000          11.100000   \n",
            "75%                                        0.000000          13.900000   \n",
            "max                                       12.000000          16.200000   \n",
            "\n",
            "       Inflation_rate          GDP  \n",
            "count     4424.000000  4424.000000  \n",
            "mean         1.228029     0.001969  \n",
            "std          1.382711     2.269935  \n",
            "min         -0.800000    -4.060000  \n",
            "25%          0.300000    -1.700000  \n",
            "50%          1.400000     0.320000  \n",
            "75%          2.600000     1.790000  \n",
            "max          3.700000     3.510000  \n",
            "\n",
            "[8 rows x 36 columns]\n"
          ]
        }
      ],
      "source": [
        "print(\"\\nStatistik Data:\")\n",
        "print(data.describe())"
      ]
    },
    {
      "cell_type": "code",
      "execution_count": 56,
      "metadata": {
        "colab": {
          "base_uri": "https://localhost:8080/"
        },
        "id": "yVfMpi_LC0vX",
        "outputId": "76001b59-cbdb-4f15-bb90-d1e3297eb2eb"
      },
      "outputs": [
        {
          "output_type": "stream",
          "name": "stdout",
          "text": [
            "\n",
            "Cek jumlah missing values:\n",
            "Marital_status                                  0\n",
            "Application_mode                                0\n",
            "Application_order                               0\n",
            "Course                                          0\n",
            "Daytime_evening_attendance                      0\n",
            "Previous_qualification                          0\n",
            "Previous_qualification_grade                    0\n",
            "Nacionality                                     0\n",
            "Mothers_qualification                           0\n",
            "Fathers_qualification                           0\n",
            "Mothers_occupation                              0\n",
            "Fathers_occupation                              0\n",
            "Admission_grade                                 0\n",
            "Displaced                                       0\n",
            "Educational_special_needs                       0\n",
            "Debtor                                          0\n",
            "Tuition_fees_up_to_date                         0\n",
            "Gender                                          0\n",
            "Scholarship_holder                              0\n",
            "Age_at_enrollment                               0\n",
            "International                                   0\n",
            "Curricular_units_1st_sem_credited               0\n",
            "Curricular_units_1st_sem_enrolled               0\n",
            "Curricular_units_1st_sem_evaluations            0\n",
            "Curricular_units_1st_sem_approved               0\n",
            "Curricular_units_1st_sem_grade                  0\n",
            "Curricular_units_1st_sem_without_evaluations    0\n",
            "Curricular_units_2nd_sem_credited               0\n",
            "Curricular_units_2nd_sem_enrolled               0\n",
            "Curricular_units_2nd_sem_evaluations            0\n",
            "Curricular_units_2nd_sem_approved               0\n",
            "Curricular_units_2nd_sem_grade                  0\n",
            "Curricular_units_2nd_sem_without_evaluations    0\n",
            "Unemployment_rate                               0\n",
            "Inflation_rate                                  0\n",
            "GDP                                             0\n",
            "Status                                          0\n",
            "dtype: int64\n"
          ]
        }
      ],
      "source": [
        "print(\"\\nCek jumlah missing values:\")\n",
        "print(data.isnull().sum())"
      ]
    },
    {
      "cell_type": "code",
      "execution_count": 57,
      "metadata": {
        "colab": {
          "base_uri": "https://localhost:8080/"
        },
        "id": "6V_KcPIiC0vY",
        "outputId": "dbb68559-b9ef-4d3b-9d5d-9b1466d366a3"
      },
      "outputs": [
        {
          "output_type": "stream",
          "name": "stdout",
          "text": [
            "\n",
            "Cek distribusi target (Dropout atau tidak):\n",
            "Status\n",
            "Graduate    2209\n",
            "Dropout     1421\n",
            "Enrolled     794\n",
            "Name: count, dtype: int64\n"
          ]
        }
      ],
      "source": [
        "print(\"\\nCek distribusi target (Dropout atau tidak):\")\n",
        "print(data['Status'].value_counts())"
      ]
    },
    {
      "cell_type": "code",
      "execution_count": 58,
      "metadata": {
        "colab": {
          "base_uri": "https://localhost:8080/",
          "height": 472
        },
        "id": "e7B1W3m6C0vY",
        "outputId": "dba4043a-3406-4973-f88e-d74add7c77cc"
      },
      "outputs": [
        {
          "output_type": "display_data",
          "data": {
            "text/plain": [
              "<Figure size 640x480 with 1 Axes>"
            ],
            "image/png": "[encoded data removed]"
          },
          "metadata": {}
        }
      ],
      "source": [
        "sns.countplot(x='Status', data=data)\n",
        "plt.title('Distribusi Siswa Dropout vs Tidak Dropout')\n",
        "plt.show()"
      ]
    },
    {
      "cell_type": "markdown",
      "metadata": {
        "id": "wy5pNp_gC0vZ"
      },
      "source": [
        "Pada tahap Data Understanding, dilakukan eksplorasi awal terhadap dataset untuk memahami struktur, distribusi nilai, serta potensi masalah seperti nilai yang hilang. Penjelasan dari setiap output yang diperoleh adalah sebagai berikut:\n",
        "\n",
        "1. Informasi Data (data.info()):\n",
        "    - Dataset terdiri dari 4424 baris dan 39 kolom.\n",
        "    - Semua kolom memiliki jumlah entri non-null sebanyak 4424, yang berarti tidak ada nilai yang hilang.\n",
        "    - Tipe data terbagi menjadi:\n",
        "      - int64: 30 kolom (contoh: Marital_status, Application_mode, Debtor).\n",
        "      - float64: 9 kolom (contoh: Previous_qualification_grade, Admission_grade, avg_grade).\n",
        "    - Hasil ini menunjukkan bahwa dataset dalam kondisi bersih dari missing values, meskipun tipe data tetap perlu diperiksa agar sesuai untuk proses analisis selanjutnya.\n",
        "\n",
        "2. Statistik Deskriptif (data.describe()):\n",
        "    - Menampilkan ringkasan statistik untuk kolom numerik, termasuk:\n",
        "      - Mean (rata-rata): Menggambarkan nilai tengah dari data.\n",
        "      - Standard deviation (std): Menunjukkan sebaran data terhadap rata-rata.\n",
        "      - Min dan Max: Menunjukkan nilai terkecil dan terbesar pada setiap kolom.\n",
        "    - Sebagai contoh:\n",
        "      - Kolom Admission_grade memiliki rata-rata 127,3 dengan rentang nilai dari 0 hingga 200.\n",
        "      - Kolom avg_grade menunjukkan rata-rata nilai siswa sebesar 12,9.\n",
        "\n",
        "3. Cek Missing Values (data.isnull().sum()):\n",
        "    - Tidak ditemukan nilai yang hilang, karena seluruh kolom menunjukkan jumlah missing values sebesar 0.\n",
        "\n",
        "4. Distribusi Target (data['Status'].value_counts()):\n",
        "    - Distribusi dari kolom target (sebelum diubah menjadi Dropout) mengindikasikan jumlah siswa dalam setiap kategori:\n",
        "      - Dropout: Siswa yang keluar dari program.\n",
        "      - Enrolled dan Graduate: Siswa yang masih aktif atau sudah lulus.\n",
        "    - Analisis ini penting untuk memahami apakah dataset memiliki distribusi kelas yang seimbang.\n",
        "\n",
        "5. Visualisasi Distribusi Target (sns.countplot()):\n",
        "    - Grafik batang memperlihatkan jumlah siswa dalam tiap kategori target secara visual.\n",
        "    - Apabila terdapat ketimpangan jumlah antar kelas (misalnya, siswa Dropout jauh lebih sedikit dibanding Enrolled), hal ini perlu diantisipasi saat membuat model agar tidak menimbulkan bias.\n",
        "\n",
        "Kesimpulan:\n",
        "- Dataset dalam kondisi bersih tanpa missing values.\n",
        "- Beberapa kolom numerik memiliki skala nilai yang bervariasi, sehingga normalisasi data diperlukan.\n",
        "- Distribusi target perlu diperhatikan, terutama jika ada ketidakseimbangan kelas yang bisa memengaruhi performa model secara keseluruhan."
      ]
    },
    {
      "cell_type": "markdown",
      "metadata": {
        "id": "PLwvadEpC0va"
      },
      "source": [
        "## Data Preparation / Preprocessing"
      ]
    },
    {
      "cell_type": "markdown",
      "metadata": {
        "id": "oSAZeqoQC0va"
      },
      "source": [
        "Pada tahap ini, dilakukan serangkaian proses untuk menyiapkan data agar dapat digunakan secara optimal dalam proses pemodelan. Adapun langkah-langkah yang dilakukan adalah sebagai berikut:\n",
        "1. Encoding Variabel Target:\n",
        "  - Kolom Status yang berisi data kategorikal seperti Enrolled, Graduate, dan Dropout dikonversi menjadi nilai numerik.\n",
        "  - Kategori Dropout diberi label 1 sebagai indikator target utama, sedangkan Enrolled dan Graduate diberi label 0.\n",
        "2. Penghapusan Kolom Status: Setelah variabel target Dropout dibuat, kolom Status dihapus karena tidak lagi dibutuhkan dalam analisis lebih lanjut.\n",
        "3. Rekayasa Fitur (Feature Engineering):\n",
        "  - Dibuat fitur-fitur baru yang dapat membantu model dalam mengenali pola data dengan lebih baik, seperti:\n",
        "    - avg_grade: Rata-rata nilai dari dua semester, yaitu Curricular_units_1st_sem_grade dan Curricular_units_2nd_sem_grade.\n",
        "    - approval_rate: Rasio antara jumlah mata kuliah yang disetujui dan jumlah mata kuliah yang diambil.\n",
        "  - Fitur penting lainnya seperti Age_at_enrollment, Debtor, Scholarship_holder, dan Tuition_fees_up_to_date tetap dipertahankan karena dianggap relevan.\n",
        "4. Pemeriksaan Missing Values: Dilakukan pengecekan terhadap setiap kolom untuk memastikan tidak ada nilai yang hilang.\n",
        "5. Penanganan Missing Values: Jika ditemukan nilai yang hilang, maka akan diisi dengan angka 0 agar tidak mengganggu proses pelatihan model.\n",
        "6. Encoding Fitur Kategorikal: Seluruh fitur dengan tipe data kategorikal dikonversi menjadi bentuk numerik menggunakan LabelEncoder.\n",
        "7. Pemisahan Fitur dan Target: Data dibagi menjadi:\n",
        "  - X: Fitur (seluruh kolom kecuali target Dropout).\n",
        "  - y: Target (kolom Dropout).\n",
        "8. Normalisasi Fitur: Fitur pada X dinormalisasi menggunakan StandardScaler agar memiliki distribusi dengan rata-rata 0 dan deviasi standar 1. Normalisasi ini penting untuk menghindari bias akibat perbedaan skala antar fitur.\n",
        "9. Pembagian Data Latih dan Uji:\n",
        "  - Dataset dibagi menjadi data pelatihan dan pengujian dengan rasio 80:20 menggunakan fungsi train_test_split.\n",
        "  - Pembagian dilakukan dengan stratifikasi terhadap target (y) agar proporsi kelas tetap seimbang di kedua subset data.\n",
        "\n",
        "Seluruh tahapan ini bertujuan untuk memastikan bahwa dataset berada dalam kondisi terbaik dan siap digunakan dalam proses pemodelan machine learning."
      ]
    },
    {
      "cell_type": "code",
      "execution_count": 59,
      "metadata": {
        "id": "sCLSRpW7C0va"
      },
      "outputs": [],
      "source": [
        "# Encode target (Status)\n",
        "# Misal: 'Enrolled' = 0, 'Graduate' = 0, 'Dropout' = 1 (Dropout = 1, yang lain 0)\n",
        "data['Dropout'] = data['Status'].apply(lambda x: 1 if x == 'Dropout' else 0)"
      ]
    },
    {
      "cell_type": "code",
      "execution_count": 60,
      "metadata": {
        "id": "_RSzEOk8C0vb"
      },
      "outputs": [],
      "source": [
        "# Hapus kolom 'Status' karena sudah diubah\n",
        "data.drop(columns=['Status'], inplace=True)"
      ]
    },
    {
      "cell_type": "code",
      "execution_count": 61,
      "metadata": {
        "id": "QbMmt0s2C0vb"
      },
      "outputs": [],
      "source": [
        "# Feature Engineering sederhana\n",
        "data['avg_grade'] = (data['Curricular_units_1st_sem_grade'] + data['Curricular_units_2nd_sem_grade']) / 2\n",
        "data['approval_rate'] = (data['Curricular_units_1st_sem_approved'] + data['Curricular_units_2nd_sem_approved']) / \\\n",
        "                        (data['Curricular_units_1st_sem_enrolled'] + data['Curricular_units_2nd_sem_enrolled'] + 1e-5)\n",
        "data['Age_at_enrollment'] = data['Age_at_enrollment']\n",
        "data['Debtor'] = data['Debtor']\n",
        "data['Scholarship_holder'] = data['Scholarship_holder']\n",
        "data['Tuition_fees_up_to_date'] = data['Tuition_fees_up_to_date']"
      ]
    },
    {
      "cell_type": "code",
      "execution_count": 62,
      "metadata": {
        "colab": {
          "base_uri": "https://localhost:8080/"
        },
        "id": "gyGWrmxiC0vc",
        "outputId": "c071e9d0-ebf4-4cb2-c36c-4540317000ed"
      },
      "outputs": [
        {
          "output_type": "stream",
          "name": "stdout",
          "text": [
            "\n",
            "Jumlah missing values per kolom:\n",
            "Marital_status                                  0\n",
            "Application_mode                                0\n",
            "Application_order                               0\n",
            "Course                                          0\n",
            "Daytime_evening_attendance                      0\n",
            "Previous_qualification                          0\n",
            "Previous_qualification_grade                    0\n",
            "Nacionality                                     0\n",
            "Mothers_qualification                           0\n",
            "Fathers_qualification                           0\n",
            "Mothers_occupation                              0\n",
            "Fathers_occupation                              0\n",
            "Admission_grade                                 0\n",
            "Displaced                                       0\n",
            "Educational_special_needs                       0\n",
            "Debtor                                          0\n",
            "Tuition_fees_up_to_date                         0\n",
            "Gender                                          0\n",
            "Scholarship_holder                              0\n",
            "Age_at_enrollment                               0\n",
            "International                                   0\n",
            "Curricular_units_1st_sem_credited               0\n",
            "Curricular_units_1st_sem_enrolled               0\n",
            "Curricular_units_1st_sem_evaluations            0\n",
            "Curricular_units_1st_sem_approved               0\n",
            "Curricular_units_1st_sem_grade                  0\n",
            "Curricular_units_1st_sem_without_evaluations    0\n",
            "Curricular_units_2nd_sem_credited               0\n",
            "Curricular_units_2nd_sem_enrolled               0\n",
            "Curricular_units_2nd_sem_evaluations            0\n",
            "Curricular_units_2nd_sem_approved               0\n",
            "Curricular_units_2nd_sem_grade                  0\n",
            "Curricular_units_2nd_sem_without_evaluations    0\n",
            "Unemployment_rate                               0\n",
            "Inflation_rate                                  0\n",
            "GDP                                             0\n",
            "Dropout                                         0\n",
            "avg_grade                                       0\n",
            "approval_rate                                   0\n",
            "dtype: int64\n"
          ]
        }
      ],
      "source": [
        "# Cek missing values\n",
        "print(\"\\nJumlah missing values per kolom:\")\n",
        "print(data.isnull().sum())"
      ]
    },
    {
      "cell_type": "code",
      "execution_count": 63,
      "metadata": {
        "id": "ekJlloekC0vc"
      },
      "outputs": [],
      "source": [
        "# Mengisi missing value (kalau ada)\n",
        "data.fillna(0, inplace=True)"
      ]
    },
    {
      "cell_type": "code",
      "execution_count": 64,
      "metadata": {
        "id": "0pd_dUKAC0vd"
      },
      "outputs": [],
      "source": [
        "# Encode semua fitur kategorikal\n",
        "categorical_cols = data.select_dtypes(include=['object']).columns\n",
        "label_encoders = {}\n",
        "\n",
        "for col in categorical_cols:\n",
        "    le = LabelEncoder()\n",
        "    data[col] = le.fit_transform(data[col])\n",
        "    label_encoders[col] = le"
      ]
    },
    {
      "cell_type": "code",
      "execution_count": 65,
      "metadata": {
        "id": "nauWJUl-C0vd"
      },
      "outputs": [],
      "source": [
        "# Split features dan target\n",
        "X = data.drop(columns=['Dropout'])\n",
        "y = data['Dropout']"
      ]
    },
    {
      "cell_type": "code",
      "execution_count": 66,
      "metadata": {
        "id": "CUwXX-gIC0ve"
      },
      "outputs": [],
      "source": [
        "# Normalisasi fitur\n",
        "scaler = StandardScaler()\n",
        "X_scaled = scaler.fit_transform(X)"
      ]
    },
    {
      "cell_type": "code",
      "execution_count": 67,
      "metadata": {
        "id": "HwS3xd8ZC0ve"
      },
      "outputs": [],
      "source": [
        "# Split train test\n",
        "X_train, X_test, y_train, y_test = train_test_split(\n",
        "    X_scaled, y, test_size=0.2, random_state=42, stratify=y\n",
        ")"
      ]
    },
    {
      "cell_type": "markdown",
      "metadata": {
        "id": "NXNm996XC0vf"
      },
      "source": [
        "## Modeling"
      ]
    },
    {
      "cell_type": "markdown",
      "metadata": {
        "id": "AYQBtQMTC0vf"
      },
      "source": [
        "Pada tahap ini, dilakukan proses pembangunan model machine learning untuk memprediksi kemungkinan seorang siswa mengalami dropout. Adapun langkah-langkah yang dijalankan meliputi:\n",
        "1. Pembuatan Model Awal:\n",
        "  - Algoritma yang digunakan adalah XGBClassifier dari pustaka XGBoost.\n",
        "  - Pemilihan model ini didasarkan pada kemampuannya yang andal dalam menangani data berdimensi tinggi serta kinerjanya yang unggul dalam berbagai kasus klasifikasi.\n",
        "  - Parameter dasar yang digunakan antara lain:\n",
        "    - objective='binary:logistic': Model difokuskan pada klasifikasi biner.\n",
        "    - eval_metric='logloss': Metode evaluasi menggunakan logarithmic loss.\n",
        "    - use_label_encoder=False: Label encoder default dari XGBoost tidak digunakan.\n",
        "    - random_state=42: Untuk menjamin hasil yang reprodusibel.\n",
        "2. Penyetelan Hyperparameter (Hyperparameter Tuning):\n",
        "  - Pencarian kombinasi hyperparameter terbaik dilakukan dengan GridSearchCV.\n",
        "  - Parameter yang diuji mencakup:\n",
        "    - max_depth: Batas maksimum kedalaman pohon keputusan (3, 5, 7).\n",
        "    - learning_rate: Tingkat pembelajaran (0.01, 0.1, 0.2).\n",
        "    - n_estimators: Jumlah estimasi pohon yang digunakan (100, 200).\n",
        "    - subsample: Proporsi data yang digunakan dalam tiap pohon (0.8, 1).\n",
        "    - colsample_bytree: Proporsi fitur yang digunakan dalam setiap pohon (0.8, 1).\n",
        "  - GridSearchCV menggunakan teknik cross-validation sebanyak 3 kali untuk mencegah overfitting dan memastikan generalisasi model.\n",
        "3. Pelatihan Model (Training):\n",
        "  - Model dilatih menggunakan data pelatihan (X_train dan y_train) berdasarkan kombinasi hyperparameter yang telah ditentukan.\n",
        "  - Proses ini memerlukan waktu karena setiap kombinasi parameter dievaluasi melalui beberapa iterasi validasi silang.\n",
        "4. Pemilihan Model Terbaik:\n",
        "  - Setelah tuning selesai, dipilih model dengan performa terbaik berdasarkan hasil validasi.\n",
        "  - Model final tersebut disimpan menggunakan joblib, agar dapat digunakan kembali tanpa perlu melatih ulang di masa depan.\n",
        "\n",
        "Tujuan dari seluruh rangkaian proses ini adalah untuk menghasilkan model yang optimal dan andal dalam memprediksi potensi siswa mengalami dropout dengan tingkat akurasi yang tinggi."
      ]
    },
    {
      "cell_type": "code",
      "execution_count": 68,
      "metadata": {
        "id": "v6XQ1qQFC0vg"
      },
      "outputs": [],
      "source": [
        "# Membuat model awal\n",
        "model = xgb.XGBClassifier(\n",
        "    objective='binary:logistic',\n",
        "    eval_metric='logloss',\n",
        "    use_label_encoder=False,\n",
        "    random_state=42\n",
        ")"
      ]
    },
    {
      "cell_type": "code",
      "execution_count": 69,
      "metadata": {
        "id": "WePu4mXZC0vg"
      },
      "outputs": [],
      "source": [
        "# Hyperparameter tuning sederhana\n",
        "param_grid = {\n",
        "    'max_depth': [3, 5, 7],\n",
        "    'learning_rate': [0.01, 0.1, 0.2],\n",
        "    'n_estimators': [100, 200],\n",
        "    'subsample': [0.8, 1],\n",
        "    'colsample_bytree': [0.8, 1]\n",
        "}"
      ]
    },
    {
      "cell_type": "code",
      "execution_count": 70,
      "metadata": {
        "id": "CT-Tafs4C0vg"
      },
      "outputs": [],
      "source": [
        "grid_search = GridSearchCV(\n",
        "    estimator=model,\n",
        "    param_grid=param_grid,\n",
        "    cv=3,\n",
        "    n_jobs=-1,\n",
        "    verbose=1\n",
        ")"
      ]
    },
    {
      "cell_type": "code",
      "execution_count": 71,
      "metadata": {
        "colab": {
          "base_uri": "https://localhost:8080/",
          "height": 254
        },
        "id": "WcbcgL4iC0vh",
        "outputId": "7502987e-cc1f-4934-bcd9-a2ecd679023a"
      },
      "outputs": [
        {
          "output_type": "stream",
          "name": "stdout",
          "text": [
            "Fitting 3 folds for each of 72 candidates, totalling 216 fits\n"
          ]
        },
        {
          "output_type": "stream",
          "name": "stderr",
          "text": [
            "/usr/local/lib/python3.11/dist-packages/xgboost/core.py:158: UserWarning: [05:08:23] WARNING: /workspace/src/learner.cc:740: \n",
            "Parameters: { \"use_label_encoder\" } are not used.\n",
            "\n",
            "  warnings.warn(smsg, UserWarning)\n"
          ]
        },
        {
          "output_type": "execute_result",
          "data": {
            "text/plain": [
              "GridSearchCV(cv=3,\n",
              "             estimator=XGBClassifier(base_score=None, booster=None,\n",
              "                                     callbacks=None, colsample_bylevel=None,\n",
              "                                     colsample_bynode=None,\n",
              "                                     colsample_bytree=None, device=None,\n",
              "                                     early_stopping_rounds=None,\n",
              "                                     enable_categorical=False,\n",
              "                                     eval_metric='logloss', feature_types=None,\n",
              "                                     gamma=None, grow_policy=None,\n",
              "                                     importance_type=None,\n",
              "                                     interaction_constraints=None,\n",
              "                                     learning_rate=...\n",
              "                                     max_delta_step=None, max_depth=None,\n",
              "                                     max_leaves=None, min_child_weight=None,\n",
              "                                     missing=nan, monotone_constraints=None,\n",
              "                                     multi_strategy=None, n_estimators=None,\n",
              "                                     n_jobs=None, num_parallel_tree=None,\n",
              "                                     random_state=42, ...),\n",
              "             n_jobs=-1,\n",
              "             param_grid={'colsample_bytree': [0.8, 1],\n",
              "                         'learning_rate': [0.01, 0.1, 0.2],\n",
              "                         'max_depth': [3, 5, 7], 'n_estimators': [100, 200],\n",
              "                         'subsample': [0.8, 1]},\n",
              "             verbose=1)"
            ],
            "text/html": [
              "<style>#sk-container-id-3 {\n",
              "  /* Definition of color scheme common for light and dark mode */\n",
              "  --sklearn-color-text: #000;\n",
              "  --sklearn-color-text-muted: #666;\n",
              "  --sklearn-color-line: gray;\n",
              "  /* Definition of color scheme for unfitted estimators */\n",
              "  --sklearn-color-unfitted-level-0: #fff5e6;\n",
              "  --sklearn-color-unfitted-level-1: #f6e4d2;\n",
              "  --sklearn-color-unfitted-level-2: #ffe0b3;\n",
              "  --sklearn-color-unfitted-level-3: chocolate;\n",
              "  /* Definition of color scheme for fitted estimators */\n",
              "  --sklearn-color-fitted-level-0: #f0f8ff;\n",
              "  --sklearn-color-fitted-level-1: #d4ebff;\n",
              "  --sklearn-color-fitted-level-2: #b3dbfd;\n",
              "  --sklearn-color-fitted-level-3: cornflowerblue;\n",
              "\n",
              "  /* Specific color for light theme */\n",
              "  --sklearn-color-text-on-default-background: var(--sg-text-color, var(--theme-code-foreground, var(--jp-content-font-color1, black)));\n",
              "  --sklearn-color-background: var(--sg-background-color, var(--theme-background, var(--jp-layout-color0, white)));\n",
              "  --sklearn-color-border-box: var(--sg-text-color, var(--theme-code-foreground, var(--jp-content-font-color1, black)));\n",
              "  --sklearn-color-icon: #696969;\n",
              "\n",
              "  @media (prefers-color-scheme: dark) {\n",
              "    /* Redefinition of color scheme for dark theme */\n",
              "    --sklearn-color-text-on-default-background: var(--sg-text-color, var(--theme-code-foreground, var(--jp-content-font-color1, white)));\n",
              "    --sklearn-color-background: var(--sg-background-color, var(--theme-background, var(--jp-layout-color0, #111)));\n",
              "    --sklearn-color-border-box: var(--sg-text-color, var(--theme-code-foreground, var(--jp-content-font-color1, white)));\n",
              "    --sklearn-color-icon: #878787;\n",
              "  }\n",
              "}\n",
              "\n",
              "#sk-container-id-3 {\n",
              "  color: var(--sklearn-color-text);\n",
              "}\n",
              "\n",
              "#sk-container-id-3 pre {\n",
              "  padding: 0;\n",
              "}\n",
              "\n",
              "#sk-container-id-3 input.sk-hidden--visually {\n",
              "  border: 0;\n",
              "  clip: rect(1px 1px 1px 1px);\n",
              "  clip: rect(1px, 1px, 1px, 1px);\n",
              "  height: 1px;\n",
              "  margin: -1px;\n",
              "  overflow: hidden;\n",
              "  padding: 0;\n",
              "  position: absolute;\n",
              "  width: 1px;\n",
              "}\n",
              "\n",
              "#sk-container-id-3 div.sk-dashed-wrapped {\n",
              "  border: 1px dashed var(--sklearn-color-line);\n",
              "  margin: 0 0.4em 0.5em 0.4em;\n",
              "  box-sizing: border-box;\n",
              "  padding-bottom: 0.4em;\n",
              "  background-color: var(--sklearn-color-background);\n",
              "}\n",
              "\n",
              "#sk-container-id-3 div.sk-container {\n",
              "  /* jupyter's `normalize.less` sets `[hidden] { display: none; }`\n",
              "     but bootstrap.min.css set `[hidden] { display: none !important; }`\n",
              "     so we also need the `!important` here to be able to override the\n",
              "     default hidden behavior on the sphinx rendered scikit-learn.org.\n",
              "     See: https://github.com/scikit-learn/scikit-learn/issues/21755 */\n",
              "  display: inline-block !important;\n",
              "  position: relative;\n",
              "}\n",
              "\n",
              "#sk-container-id-3 div.sk-text-repr-fallback {\n",
              "  display: none;\n",
              "}\n",
              "\n",
              "div.sk-parallel-item,\n",
              "div.sk-serial,\n",
              "div.sk-item {\n",
              "  /* draw centered vertical line to link estimators */\n",
              "  background-image: linear-gradient(var(--sklearn-color-text-on-default-background), var(--sklearn-color-text-on-default-background));\n",
              "  background-size: 2px 100%;\n",
              "  background-repeat: no-repeat;\n",
              "  background-position: center center;\n",
              "}\n",
              "\n",
              "/* Parallel-specific style estimator block */\n",
              "\n",
              "#sk-container-id-3 div.sk-parallel-item::after {\n",
              "  content: \"\";\n",
              "  width: 100%;\n",
              "  border-bottom: 2px solid var(--sklearn-color-text-on-default-background);\n",
              "  flex-grow: 1;\n",
              "}\n",
              "\n",
              "#sk-container-id-3 div.sk-parallel {\n",
              "  display: flex;\n",
              "  align-items: stretch;\n",
              "  justify-content: center;\n",
              "  background-color: var(--sklearn-color-background);\n",
              "  position: relative;\n",
              "}\n",
              "\n",
              "#sk-container-id-3 div.sk-parallel-item {\n",
              "  display: flex;\n",
              "  flex-direction: column;\n",
              "}\n",
              "\n",
              "#sk-container-id-3 div.sk-parallel-item:first-child::after {\n",
              "  align-self: flex-end;\n",
              "  width: 50%;\n",
              "}\n",
              "\n",
              "#sk-container-id-3 div.sk-parallel-item:last-child::after {\n",
              "  align-self: flex-start;\n",
              "  width: 50%;\n",
              "}\n",
              "\n",
              "#sk-container-id-3 div.sk-parallel-item:only-child::after {\n",
              "  width: 0;\n",
              "}\n",
              "\n",
              "/* Serial-specific style estimator block */\n",
              "\n",
              "#sk-container-id-3 div.sk-serial {\n",
              "  display: flex;\n",
              "  flex-direction: column;\n",
              "  align-items: center;\n",
              "  background-color: var(--sklearn-color-background);\n",
              "  padding-right: 1em;\n",
              "  padding-left: 1em;\n",
              "}\n",
              "\n",
              "\n",
              "/* Toggleable style: style used for estimator/Pipeline/ColumnTransformer box that is\n",
              "clickable and can be expanded/collapsed.\n",
              "- Pipeline and ColumnTransformer use this feature and define the default style\n",
              "- Estimators will overwrite some part of the style using the `sk-estimator` class\n",
              "*/\n",
              "\n",
              "/* Pipeline and ColumnTransformer style (default) */\n",
              "\n",
              "#sk-container-id-3 div.sk-toggleable {\n",
              "  /* Default theme specific background. It is overwritten whether we have a\n",
              "  specific estimator or a Pipeline/ColumnTransformer */\n",
              "  background-color: var(--sklearn-color-background);\n",
              "}\n",
              "\n",
              "/* Toggleable label */\n",
              "#sk-container-id-3 label.sk-toggleable__label {\n",
              "  cursor: pointer;\n",
              "  display: flex;\n",
              "  width: 100%;\n",
              "  margin-bottom: 0;\n",
              "  padding: 0.5em;\n",
              "  box-sizing: border-box;\n",
              "  text-align: center;\n",
              "  align-items: start;\n",
              "  justify-content: space-between;\n",
              "  gap: 0.5em;\n",
              "}\n",
              "\n",
              "#sk-container-id-3 label.sk-toggleable__label .caption {\n",
              "  font-size: 0.6rem;\n",
              "  font-weight: lighter;\n",
              "  color: var(--sklearn-color-text-muted);\n",
              "}\n",
              "\n",
              "#sk-container-id-3 label.sk-toggleable__label-arrow:before {\n",
              "  /* Arrow on the left of the label */\n",
              "  content: \"▸\";\n",
              "  float: left;\n",
              "  margin-right: 0.25em;\n",
              "  color: var(--sklearn-color-icon);\n",
              "}\n",
              "\n",
              "#sk-container-id-3 label.sk-toggleable__label-arrow:hover:before {\n",
              "  color: var(--sklearn-color-text);\n",
              "}\n",
              "\n",
              "/* Toggleable content - dropdown */\n",
              "\n",
              "#sk-container-id-3 div.sk-toggleable__content {\n",
              "  max-height: 0;\n",
              "  max-width: 0;\n",
              "  overflow: hidden;\n",
              "  text-align: left;\n",
              "  /* unfitted */\n",
              "  background-color: var(--sklearn-color-unfitted-level-0);\n",
              "}\n",
              "\n",
              "#sk-container-id-3 div.sk-toggleable__content.fitted {\n",
              "  /* fitted */\n",
              "  background-color: var(--sklearn-color-fitted-level-0);\n",
              "}\n",
              "\n",
              "#sk-container-id-3 div.sk-toggleable__content pre {\n",
              "  margin: 0.2em;\n",
              "  border-radius: 0.25em;\n",
              "  color: var(--sklearn-color-text);\n",
              "  /* unfitted */\n",
              "  background-color: var(--sklearn-color-unfitted-level-0);\n",
              "}\n",
              "\n",
              "#sk-container-id-3 div.sk-toggleable__content.fitted pre {\n",
              "  /* unfitted */\n",
              "  background-color: var(--sklearn-color-fitted-level-0);\n",
              "}\n",
              "\n",
              "#sk-container-id-3 input.sk-toggleable__control:checked~div.sk-toggleable__content {\n",
              "  /* Expand drop-down */\n",
              "  max-height: 200px;\n",
              "  max-width: 100%;\n",
              "  overflow: auto;\n",
              "}\n",
              "\n",
              "#sk-container-id-3 input.sk-toggleable__control:checked~label.sk-toggleable__label-arrow:before {\n",
              "  content: \"▾\";\n",
              "}\n",
              "\n",
              "/* Pipeline/ColumnTransformer-specific style */\n",
              "\n",
              "#sk-container-id-3 div.sk-label input.sk-toggleable__control:checked~label.sk-toggleable__label {\n",
              "  color: var(--sklearn-color-text);\n",
              "  background-color: var(--sklearn-color-unfitted-level-2);\n",
              "}\n",
              "\n",
              "#sk-container-id-3 div.sk-label.fitted input.sk-toggleable__control:checked~label.sk-toggleable__label {\n",
              "  background-color: var(--sklearn-color-fitted-level-2);\n",
              "}\n",
              "\n",
              "/* Estimator-specific style */\n",
              "\n",
              "/* Colorize estimator box */\n",
              "#sk-container-id-3 div.sk-estimator input.sk-toggleable__control:checked~label.sk-toggleable__label {\n",
              "  /* unfitted */\n",
              "  background-color: var(--sklearn-color-unfitted-level-2);\n",
              "}\n",
              "\n",
              "#sk-container-id-3 div.sk-estimator.fitted input.sk-toggleable__control:checked~label.sk-toggleable__label {\n",
              "  /* fitted */\n",
              "  background-color: var(--sklearn-color-fitted-level-2);\n",
              "}\n",
              "\n",
              "#sk-container-id-3 div.sk-label label.sk-toggleable__label,\n",
              "#sk-container-id-3 div.sk-label label {\n",
              "  /* The background is the default theme color */\n",
              "  color: var(--sklearn-color-text-on-default-background);\n",
              "}\n",
              "\n",
              "/* On hover, darken the color of the background */\n",
              "#sk-container-id-3 div.sk-label:hover label.sk-toggleable__label {\n",
              "  color: var(--sklearn-color-text);\n",
              "  background-color: var(--sklearn-color-unfitted-level-2);\n",
              "}\n",
              "\n",
              "/* Label box, darken color on hover, fitted */\n",
              "#sk-container-id-3 div.sk-label.fitted:hover label.sk-toggleable__label.fitted {\n",
              "  color: var(--sklearn-color-text);\n",
              "  background-color: var(--sklearn-color-fitted-level-2);\n",
              "}\n",
              "\n",
              "/* Estimator label */\n",
              "\n",
              "#sk-container-id-3 div.sk-label label {\n",
              "  font-family: monospace;\n",
              "  font-weight: bold;\n",
              "  display: inline-block;\n",
              "  line-height: 1.2em;\n",
              "}\n",
              "\n",
              "#sk-container-id-3 div.sk-label-container {\n",
              "  text-align: center;\n",
              "}\n",
              "\n",
              "/* Estimator-specific */\n",
              "#sk-container-id-3 div.sk-estimator {\n",
              "  font-family: monospace;\n",
              "  border: 1px dotted var(--sklearn-color-border-box);\n",
              "  border-radius: 0.25em;\n",
              "  box-sizing: border-box;\n",
              "  margin-bottom: 0.5em;\n",
              "  /* unfitted */\n",
              "  background-color: var(--sklearn-color-unfitted-level-0);\n",
              "}\n",
              "\n",
              "#sk-container-id-3 div.sk-estimator.fitted {\n",
              "  /* fitted */\n",
              "  background-color: var(--sklearn-color-fitted-level-0);\n",
              "}\n",
              "\n",
              "/* on hover */\n",
              "#sk-container-id-3 div.sk-estimator:hover {\n",
              "  /* unfitted */\n",
              "  background-color: var(--sklearn-color-unfitted-level-2);\n",
              "}\n",
              "\n",
              "#sk-container-id-3 div.sk-estimator.fitted:hover {\n",
              "  /* fitted */\n",
              "  background-color: var(--sklearn-color-fitted-level-2);\n",
              "}\n",
              "\n",
              "/* Specification for estimator info (e.g. \"i\" and \"?\") */\n",
              "\n",
              "/* Common style for \"i\" and \"?\" */\n",
              "\n",
              ".sk-estimator-doc-link,\n",
              "a:link.sk-estimator-doc-link,\n",
              "a:visited.sk-estimator-doc-link {\n",
              "  float: right;\n",
              "  font-size: smaller;\n",
              "  line-height: 1em;\n",
              "  font-family: monospace;\n",
              "  background-color: var(--sklearn-color-background);\n",
              "  border-radius: 1em;\n",
              "  height: 1em;\n",
              "  width: 1em;\n",
              "  text-decoration: none !important;\n",
              "  margin-left: 0.5em;\n",
              "  text-align: center;\n",
              "  /* unfitted */\n",
              "  border: var(--sklearn-color-unfitted-level-1) 1pt solid;\n",
              "  color: var(--sklearn-color-unfitted-level-1);\n",
              "}\n",
              "\n",
              ".sk-estimator-doc-link.fitted,\n",
              "a:link.sk-estimator-doc-link.fitted,\n",
              "a:visited.sk-estimator-doc-link.fitted {\n",
              "  /* fitted */\n",
              "  border: var(--sklearn-color-fitted-level-1) 1pt solid;\n",
              "  color: var(--sklearn-color-fitted-level-1);\n",
              "}\n",
              "\n",
              "/* On hover */\n",
              "div.sk-estimator:hover .sk-estimator-doc-link:hover,\n",
              ".sk-estimator-doc-link:hover,\n",
              "div.sk-label-container:hover .sk-estimator-doc-link:hover,\n",
              ".sk-estimator-doc-link:hover {\n",
              "  /* unfitted */\n",
              "  background-color: var(--sklearn-color-unfitted-level-3);\n",
              "  color: var(--sklearn-color-background);\n",
              "  text-decoration: none;\n",
              "}\n",
              "\n",
              "div.sk-estimator.fitted:hover .sk-estimator-doc-link.fitted:hover,\n",
              ".sk-estimator-doc-link.fitted:hover,\n",
              "div.sk-label-container:hover .sk-estimator-doc-link.fitted:hover,\n",
              ".sk-estimator-doc-link.fitted:hover {\n",
              "  /* fitted */\n",
              "  background-color: var(--sklearn-color-fitted-level-3);\n",
              "  color: var(--sklearn-color-background);\n",
              "  text-decoration: none;\n",
              "}\n",
              "\n",
              "/* Span, style for the box shown on hovering the info icon */\n",
              ".sk-estimator-doc-link span {\n",
              "  display: none;\n",
              "  z-index: 9999;\n",
              "  position: relative;\n",
              "  font-weight: normal;\n",
              "  right: .2ex;\n",
              "  padding: .5ex;\n",
              "  margin: .5ex;\n",
              "  width: min-content;\n",
              "  min-width: 20ex;\n",
              "  max-width: 50ex;\n",
              "  color: var(--sklearn-color-text);\n",
              "  box-shadow: 2pt 2pt 4pt #999;\n",
              "  /* unfitted */\n",
              "  background: var(--sklearn-color-unfitted-level-0);\n",
              "  border: .5pt solid var(--sklearn-color-unfitted-level-3);\n",
              "}\n",
              "\n",
              ".sk-estimator-doc-link.fitted span {\n",
              "  /* fitted */\n",
              "  background: var(--sklearn-color-fitted-level-0);\n",
              "  border: var(--sklearn-color-fitted-level-3);\n",
              "}\n",
              "\n",
              ".sk-estimator-doc-link:hover span {\n",
              "  display: block;\n",
              "}\n",
              "\n",
              "/* \"?\"-specific style due to the `<a>` HTML tag */\n",
              "\n",
              "#sk-container-id-3 a.estimator_doc_link {\n",
              "  float: right;\n",
              "  font-size: 1rem;\n",
              "  line-height: 1em;\n",
              "  font-family: monospace;\n",
              "  background-color: var(--sklearn-color-background);\n",
              "  border-radius: 1rem;\n",
              "  height: 1rem;\n",
              "  width: 1rem;\n",
              "  text-decoration: none;\n",
              "  /* unfitted */\n",
              "  color: var(--sklearn-color-unfitted-level-1);\n",
              "  border: var(--sklearn-color-unfitted-level-1) 1pt solid;\n",
              "}\n",
              "\n",
              "#sk-container-id-3 a.estimator_doc_link.fitted {\n",
              "  /* fitted */\n",
              "  border: var(--sklearn-color-fitted-level-1) 1pt solid;\n",
              "  color: var(--sklearn-color-fitted-level-1);\n",
              "}\n",
              "\n",
              "/* On hover */\n",
              "#sk-container-id-3 a.estimator_doc_link:hover {\n",
              "  /* unfitted */\n",
              "  background-color: var(--sklearn-color-unfitted-level-3);\n",
              "  color: var(--sklearn-color-background);\n",
              "  text-decoration: none;\n",
              "}\n",
              "\n",
              "#sk-container-id-3 a.estimator_doc_link.fitted:hover {\n",
              "  /* fitted */\n",
              "  background-color: var(--sklearn-color-fitted-level-3);\n",
              "}\n",
              "</style><div id=\"sk-container-id-3\" class=\"sk-top-container\"><div class=\"sk-text-repr-fallback\"><pre>GridSearchCV(cv=3,\n",
              "             estimator=XGBClassifier(base_score=None, booster=None,\n",
              "                                     callbacks=None, colsample_bylevel=None,\n",
              "                                     colsample_bynode=None,\n",
              "                                     colsample_bytree=None, device=None,\n",
              "                                     early_stopping_rounds=None,\n",
              "                                     enable_categorical=False,\n",
              "                                     eval_metric=&#x27;logloss&#x27;, feature_types=None,\n",
              "                                     gamma=None, grow_policy=None,\n",
              "                                     importance_type=None,\n",
              "                                     interaction_constraints=None,\n",
              "                                     learning_rate=...\n",
              "                                     max_delta_step=None, max_depth=None,\n",
              "                                     max_leaves=None, min_child_weight=None,\n",
              "                                     missing=nan, monotone_constraints=None,\n",
              "                                     multi_strategy=None, n_estimators=None,\n",
              "                                     n_jobs=None, num_parallel_tree=None,\n",
              "                                     random_state=42, ...),\n",
              "             n_jobs=-1,\n",
              "             param_grid={&#x27;colsample_bytree&#x27;: [0.8, 1],\n",
              "                         &#x27;learning_rate&#x27;: [0.01, 0.1, 0.2],\n",
              "                         &#x27;max_depth&#x27;: [3, 5, 7], &#x27;n_estimators&#x27;: [100, 200],\n",
              "                         &#x27;subsample&#x27;: [0.8, 1]},\n",
              "             verbose=1)</pre><b>In a Jupyter environment, please rerun this cell to show the HTML representation or trust the notebook. <br />On GitHub, the HTML representation is unable to render, please try loading this page with nbviewer.org.</b></div><div class=\"sk-container\" hidden><div class=\"sk-item sk-dashed-wrapped\"><div class=\"sk-label-container\"><div class=\"sk-label fitted sk-toggleable\"><input class=\"sk-toggleable__control sk-hidden--visually\" id=\"sk-estimator-id-7\" type=\"checkbox\" ><label for=\"sk-estimator-id-7\" class=\"sk-toggleable__label fitted sk-toggleable__label-arrow\"><div><div>GridSearchCV</div></div><div><a class=\"sk-estimator-doc-link fitted\" rel=\"noreferrer\" target=\"_blank\" href=\"https://scikit-learn.org/1.6/modules/generated/sklearn.model_selection.GridSearchCV.html\">?<span>Documentation for GridSearchCV</span></a><span class=\"sk-estimator-doc-link fitted\">i<span>Fitted</span></span></div></label><div class=\"sk-toggleable__content fitted\"><pre>GridSearchCV(cv=3,\n",
              "             estimator=XGBClassifier(base_score=None, booster=None,\n",
              "                                     callbacks=None, colsample_bylevel=None,\n",
              "                                     colsample_bynode=None,\n",
              "                                     colsample_bytree=None, device=None,\n",
              "                                     early_stopping_rounds=None,\n",
              "                                     enable_categorical=False,\n",
              "                                     eval_metric=&#x27;logloss&#x27;, feature_types=None,\n",
              "                                     gamma=None, grow_policy=None,\n",
              "                                     importance_type=None,\n",
              "                                     interaction_constraints=None,\n",
              "                                     learning_rate=...\n",
              "                                     max_delta_step=None, max_depth=None,\n",
              "                                     max_leaves=None, min_child_weight=None,\n",
              "                                     missing=nan, monotone_constraints=None,\n",
              "                                     multi_strategy=None, n_estimators=None,\n",
              "                                     n_jobs=None, num_parallel_tree=None,\n",
              "                                     random_state=42, ...),\n",
              "             n_jobs=-1,\n",
              "             param_grid={&#x27;colsample_bytree&#x27;: [0.8, 1],\n",
              "                         &#x27;learning_rate&#x27;: [0.01, 0.1, 0.2],\n",
              "                         &#x27;max_depth&#x27;: [3, 5, 7], &#x27;n_estimators&#x27;: [100, 200],\n",
              "                         &#x27;subsample&#x27;: [0.8, 1]},\n",
              "             verbose=1)</pre></div> </div></div><div class=\"sk-parallel\"><div class=\"sk-parallel-item\"><div class=\"sk-item\"><div class=\"sk-label-container\"><div class=\"sk-label fitted sk-toggleable\"><input class=\"sk-toggleable__control sk-hidden--visually\" id=\"sk-estimator-id-8\" type=\"checkbox\" ><label for=\"sk-estimator-id-8\" class=\"sk-toggleable__label fitted sk-toggleable__label-arrow\"><div><div>best_estimator_: XGBClassifier</div></div></label><div class=\"sk-toggleable__content fitted\"><pre>XGBClassifier(base_score=None, booster=None, callbacks=None,\n",
              "              colsample_bylevel=None, colsample_bynode=None, colsample_bytree=1,\n",
              "              device=None, early_stopping_rounds=None, enable_categorical=False,\n",
              "              eval_metric=&#x27;logloss&#x27;, feature_types=None, gamma=None,\n",
              "              grow_policy=None, importance_type=None,\n",
              "              interaction_constraints=None, learning_rate=0.2, max_bin=None,\n",
              "              max_cat_threshold=None, max_cat_to_onehot=None,\n",
              "              max_delta_step=None, max_depth=3, max_leaves=None,\n",
              "              min_child_weight=None, missing=nan, monotone_constraints=None,\n",
              "              multi_strategy=None, n_estimators=100, n_jobs=None,\n",
              "              num_parallel_tree=None, random_state=42, ...)</pre></div> </div></div><div class=\"sk-serial\"><div class=\"sk-item\"><div class=\"sk-estimator fitted sk-toggleable\"><input class=\"sk-toggleable__control sk-hidden--visually\" id=\"sk-estimator-id-9\" type=\"checkbox\" ><label for=\"sk-estimator-id-9\" class=\"sk-toggleable__label fitted sk-toggleable__label-arrow\"><div><div>XGBClassifier</div></div></label><div class=\"sk-toggleable__content fitted\"><pre>XGBClassifier(base_score=None, booster=None, callbacks=None,\n",
              "              colsample_bylevel=None, colsample_bynode=None, colsample_bytree=1,\n",
              "              device=None, early_stopping_rounds=None, enable_categorical=False,\n",
              "              eval_metric=&#x27;logloss&#x27;, feature_types=None, gamma=None,\n",
              "              grow_policy=None, importance_type=None,\n",
              "              interaction_constraints=None, learning_rate=0.2, max_bin=None,\n",
              "              max_cat_threshold=None, max_cat_to_onehot=None,\n",
              "              max_delta_step=None, max_depth=3, max_leaves=None,\n",
              "              min_child_weight=None, missing=nan, monotone_constraints=None,\n",
              "              multi_strategy=None, n_estimators=100, n_jobs=None,\n",
              "              num_parallel_tree=None, random_state=42, ...)</pre></div> </div></div></div></div></div></div></div></div></div>"
            ]
          },
          "metadata": {},
          "execution_count": 71
        }
      ],
      "source": [
        "# Training\n",
        "grid_search.fit(X_train, y_train)"
      ]
    },
    {
      "cell_type": "code",
      "execution_count": 72,
      "metadata": {
        "id": "HHN9wMvWC0vh"
      },
      "outputs": [],
      "source": [
        "# Best model\n",
        "best_model = grid_search.best_estimator_"
      ]
    },
    {
      "cell_type": "code",
      "execution_count": 73,
      "metadata": {
        "id": "lw3mjvnoC0vk",
        "colab": {
          "base_uri": "https://localhost:8080/"
        },
        "outputId": "c531b0b3-d7b1-4978-f080-f19a74abcf51"
      },
      "outputs": [
        {
          "output_type": "stream",
          "name": "stdout",
          "text": [
            "\n",
            "Model, Scaler, dan Label Encoders berhasil disimpan!\n"
          ]
        }
      ],
      "source": [
        "# Simpan model\n",
        "joblib.dump(best_model, 'model_dropout_xgboost.pkl')\n",
        "\n",
        "# Simpan scaler dan label encoder\n",
        "joblib.dump(scaler, 'scaler.pkl')\n",
        "joblib.dump(label_encoders, 'label_encoders.pkl')\n",
        "\n",
        "print(\"\\nModel, Scaler, dan Label Encoders berhasil disimpan!\")"
      ]
    },
    {
      "cell_type": "markdown",
      "metadata": {
        "id": "97rZYweqC0vl"
      },
      "source": [
        "## Evaluation"
      ]
    },
    {
      "cell_type": "markdown",
      "metadata": {
        "id": "QLHugCU3C0vm"
      },
      "source": [
        "Pada tahap evaluasi, dilakukan pengujian terhadap kinerja model menggunakan data pengujian (X_test dan y_test). Tujuan dari proses ini adalah untuk menilai seberapa baik model mampu memprediksi kemungkinan siswa mengalami dropout. Adapun tahapan evaluasi yang dilakukan adalah sebagai berikut:\n",
        "1. Melakukan Prediksi pada Data Uji:\n",
        "  - Model terbaik hasil tuning hyperparameter digunakan untuk melakukan prediksi terhadap data uji.\n",
        "  - Fungsi predict() digunakan untuk menghasilkan label kelas, sedangkan predict_proba() menghasilkan probabilitas dari masing-masing prediksi.\n",
        "2. Laporan Klasifikasi (Classification Report):\n",
        "  - Evaluasi dilakukan dengan classification_report yang menampilkan metrik penting seperti precision, recall, F1-score, dan support untuk tiap kelas.\n",
        "  - Metrik-metrik ini memberikan wawasan mengenai kemampuan model dalam mengklasifikasikan masing-masing kategori, terutama dalam membedakan antara siswa yang dropout dan yang tidak.\n",
        "3. Matriks Kebingungan (Confusion Matrix):\n",
        "  - Dengan confusion_matrix, ditampilkan informasi mengenai jumlah prediksi yang benar dan salah untuk masing-masing kelas.\n",
        "  - Matriks ini sangat membantu untuk mengidentifikasi pola kesalahan yang dilakukan oleh model, seperti kesalahan dalam mengklasifikasikan siswa yang seharusnya dropout namun diprediksi tidak, atau sebaliknya.\n",
        "4. Perhitungan Akurasi Model:\n",
        "  - Menggunakan accuracy_score, dihitung proporsi prediksi yang tepat dibandingkan total jumlah data uji.\n",
        "  - Nilai akurasi memberikan gambaran umum tentang efektivitas model dalam melakukan prediksi secara keseluruhan.\n",
        "\n",
        "Melalui tahapan evaluasi ini, dapat diketahui sejauh mana model mampu memprediksi kemungkinan dropout siswa secara akurat, serta apakah diperlukan perbaikan lebih lanjut untuk meningkatkan performa prediksi."
      ]
    },
    {
      "cell_type": "code",
      "execution_count": 74,
      "metadata": {
        "id": "fri-pSX_C0wC",
        "colab": {
          "base_uri": "https://localhost:8080/"
        },
        "outputId": "4eef357b-25e0-4299-e05e-c5f2c25128a0"
      },
      "outputs": [
        {
          "output_type": "stream",
          "name": "stdout",
          "text": [
            "\n",
            "Classification Report:\n",
            "              precision    recall  f1-score   support\n",
            "\n",
            "           0       0.90      0.95      0.92       601\n",
            "           1       0.87      0.77      0.82       284\n",
            "\n",
            "    accuracy                           0.89       885\n",
            "   macro avg       0.88      0.86      0.87       885\n",
            "weighted avg       0.89      0.89      0.89       885\n",
            "\n",
            "\n",
            "Confusion Matrix:\n",
            "[[569  32]\n",
            " [ 66 218]]\n",
            "\n",
            "Akurasi Model setelah tuning: 0.8892655367231639\n"
          ]
        }
      ],
      "source": [
        "# Predict\n",
        "y_pred = best_model.predict(X_test)\n",
        "\n",
        "# Evaluasi\n",
        "print(\"\\nClassification Report:\")\n",
        "print(classification_report(y_test, y_pred))\n",
        "\n",
        "print(\"\\nConfusion Matrix:\")\n",
        "print(confusion_matrix(y_test, y_pred))\n",
        "\n",
        "accuracy = accuracy_score(y_test, y_pred)\n",
        "print(f\"\\nAkurasi Model setelah tuning: {accuracy}\")\n"
      ]
    },
    {
      "cell_type": "markdown",
      "metadata": {
        "id": "iN0X_logC0wD"
      },
      "source": [
        "1. Laporan Klasifikasi (Classification Report)\n",
        "  - Precision:\n",
        "    - Untuk kelas 0 (tidak dropout), model memiliki precision sebesar 0.89, artinya 89% dari prediksi siswa tidak dropout adalah benar.\n",
        "    - Untuk kelas 1 (dropout), precision sebesar 0.86, menunjukkan bahwa 86% dari prediksi siswa dropout benar-benar tepat sasaran.\n",
        "  - Recall:\n",
        "    - Pada kelas 0, recall sebesar 0.94, yang berarti model berhasil mengidentifikasi 94% dari seluruh siswa yang benar-benar tidak dropout.\n",
        "    - Pada kelas 1, recall hanya 0.76, yang artinya hanya 76% dari siswa yang benar-benar dropout berhasil dikenali oleh model.\n",
        "  - F1-Score:\n",
        "    - Kelas 0 memiliki F1-score sebesar 0.92, menandakan keseimbangan yang baik antara precision dan recall.\n",
        "    - Untuk kelas 1, F1-score adalah 0.81, mencerminkan kinerja model yang cukup baik, namun masih bisa ditingkatkan.\n",
        "  - Akurasi Keseluruhan:\n",
        "    - Model mencapai akurasi 88%, yang berarti secara keseluruhan model mampu membuat prediksi yang tepat pada 88% data uji.\n",
        "\n",
        "2. Matriks Kebingungan (Confusion Matrix)\n",
        "  - True Positives (TP): 216 – Siswa yang benar-benar dropout dan diprediksi dengan benar.\n",
        "  - True Negatives (TN): 567 – Siswa yang tidak dropout dan juga diprediksi tidak dropout.\n",
        "  - False Positives (FP): 34 – Siswa yang tidak dropout, tetapi salah diklasifikasikan sebagai dropout.\n",
        "  - False Negatives (FN): 68 – Siswa yang sebenarnya dropout, namun tidak terdeteksi oleh model.\n",
        "\n",
        "3. Kesimpulan\n",
        "  - Model menunjukkan kinerja yang cukup baik dengan akurasi 88%.\n",
        "  - Kinerja dalam mengklasifikasikan siswa tidak dropout lebih unggul dibandingkan siswa dropout, terlihat dari nilai recall dan precision yang lebih tinggi pada kelas 0.\n",
        "  - Meskipun begitu, kemampuan model dalam mendeteksi siswa yang dropout (kelas 1) masih dapat ditingkatkan, terutama dari sisi recall, agar lebih banyak kasus dropout yang bisa teridentifikasi dengan tepat.\n",
        "\n",
        "Rekomendasi: Untuk meningkatkan deteksi terhadap kasus dropout, bisa dipertimbangkan penggunaan teknik penyeimbangan data seperti SMOTE atau penyesuaian threshold probabilitas prediksi."
      ]
    },
    {
      "cell_type": "code",
      "source": [
        "!pip freeze > requirements.txt"
      ],
      "metadata": {
        "id": "2u9GSGySjUmC"
      },
      "execution_count": 75,
      "outputs": []
    }
  ],
  "metadata": {
    "kernelspec": {
      "display_name": "Python 3",
      "language": "python",
      "name": "python3"
    },
    "language_info": {
      "codemirror_mode": {
        "name": "ipython",
        "version": 3
      },
      "file_extension": ".py",
      "mimetype": "text/x-python",
      "name": "python",
      "nbconvert_exporter": "python",
      "pygments_lexer": "ipython3",
      "version": "3.11.9"
    },
    "orig_nbformat": 4,
    "colab": {
      "provenance": []
    }
  },
  "nbformat": 4,
  "nbformat_minor": 0
}